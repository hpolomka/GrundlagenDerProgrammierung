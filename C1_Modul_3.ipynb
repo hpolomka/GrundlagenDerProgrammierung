{
 "cells": [
  {
   "cell_type": "markdown",
   "metadata": {},
   "source": [
    "<h1>Branching.</h1>"
   ]
  },
  {
   "cell_type": "code",
   "execution_count": null,
   "metadata": {},
   "outputs": [],
   "source": [
    "# \"Flow Control\" in Python.\n",
    "# Bisher haben wir nur linearen Code gesehen, der von oben nach unten abgearbeitet wird.\n",
    "# Mit \"Flow Control\" können wir den Code verzweigen und Schleifen erstellen.\n",
    "# \"Flow Control\" ermöglicht es uns, Code nur unter bestimmten Bedingungen auszuführen oder ihn mehrmals auszuführen.\n",
    "# Jetzt kommt die Programmlogik ins Spiel.\n",
    "# Es gibt zwei Arten von \"Flow Control\" in Python: Verzweigungen und Schleifen.\n",
    "# Verzweigungen ermöglichen es uns, Code nur unter bestimmten Bedingungen auszuführen.\n",
    "# Schleifen ermöglichen es uns, Code mehrmals auszuführen."
   ]
  },
  {
   "cell_type": "markdown",
   "metadata": {},
   "source": [
    "<h1>Conditions: \"if-Statement\".</h1>"
   ]
  },
  {
   "cell_type": "code",
   "execution_count": 3,
   "metadata": {},
   "outputs": [
    {
     "name": "stdout",
     "output_type": "stream",
     "text": [
      "Die Zahl ist positiv.\n"
     ]
    }
   ],
   "source": [
    "# Conditions: if, elif, else.\n",
    "# Die if-Anweisung wird verwendet, um Code nur dann auszuführen, wenn eine Bedingung erfüllt ist.\n",
    "# Die elif-Anweisung wird verwendet, um eine weitere Bedingung zu überprüfen,\n",
    "# wenn die vorherige Bedingung nicht erfüllt ist.\n",
    "# Die else-Anweisung wird verwendet, um Code auszuführen, wenn keine der vorherigen Bedingungen erfüllt ist.\n",
    "# Die else-Anweisung ist optional.\n",
    "# \"if\" wird immer zuerst geprüft, \"elif\" wird nur geprüft, wenn \"if\" nicht zutrifft.\n",
    "# \"else\" wird nur geprüft, wenn weder \"if\" noch \"elif\" zutreffen.\n",
    "# Syntax:\n",
    "# if condition:  # Der Doppelpunkt ist wichtig.\n",
    "#     code  # Der Code muss eingerückt werden (4 Leerzeichen oder 1 Tab [nicht verwenden!]).\n",
    "# elif condition:\n",
    "#     code\n",
    "# else:\n",
    "#     code\n",
    "\n",
    "# Beispiel 1:\n",
    "# Wir haben eine Variable \"x\" und prüfen, ob diese negativ ist.\n",
    "x = float(input(\"Gib bitte eine Zahl ein: \"))\n",
    "if x < 0:\n",
    "    print(\"Die Zahl ist negativ.\")\n",
    "elif x == 0:\n",
    "    print(\"Die Zahl ist 0.\")\n",
    "else:\n",
    "    print(\"Die Zahl ist positiv.\")\n"
   ]
  },
  {
   "cell_type": "code",
   "execution_count": 3,
   "metadata": {},
   "outputs": [
    {
     "name": "stdout",
     "output_type": "stream",
     "text": [
      "Die Zahl ist gerade.\n"
     ]
    }
   ],
   "source": [
    "# Beispiel 2:\n",
    "# Wir haben eine Variable \"x\" und prüfen, ob sie gerade ist.\n",
    "x = int(input(\"Gib bitte eine Zahl ein: \"))\n",
    "if x % 2 == 0:  # Der Modulo-Operator \"%\" gibt den Rest einer Division zurück.\n",
    "                # Wichtig: \"==\" ist ein Vergleichsoperator und kein Zuweisungsoperator.\n",
    "    print(\"Die Zahl ist gerade.\")\n",
    "else:\n",
    "    print(\"Die Zahl ist ungerade.\")"
   ]
  },
  {
   "cell_type": "code",
   "execution_count": 5,
   "metadata": {},
   "outputs": [
    {
     "name": "stdout",
     "output_type": "stream",
     "text": [
      "Die Zahl ist eine Primzahl.\n"
     ]
    }
   ],
   "source": [
    "# Beispiel 3:\n",
    "# Wir haben eine Variable \"x\" und prüfen, ob sie eine Primzahl ist.\n",
    "x = int(input(\"Gib bitte eine Zahl zwischen 2 und 10 ein: \"))\n",
    "if x == 2 or x == 3 or x == 5 or x == 7:  # Die Zahl ist eine Primzahl, wenn sie 2, 3, 5 oder 7 ist.\n",
    "    print(\"Die Zahl ist eine Primzahl.\")\n",
    "else:\n",
    "    print(\"Die Zahl ist keine Primzahl.\")\n"
   ]
  },
  {
   "cell_type": "markdown",
   "metadata": {},
   "source": [
    "<h1>Nested condition.</h1>"
   ]
  },
  {
   "cell_type": "code",
   "execution_count": 4,
   "metadata": {},
   "outputs": [
    {
     "name": "stdout",
     "output_type": "stream",
     "text": [
      "Wie hoch ist die Außentemperatur?\n",
      "Das Wetter ist angenehm.\n"
     ]
    }
   ],
   "source": [
    "# Nested condition.\n",
    "\n",
    "# Eine verschachtelte Bedingung ist eine if-Anweisung innerhalb einer if-Anweisung.\n",
    "# Syntax:\n",
    "# if condition:\n",
    "#     if condition:\n",
    "#         code\n",
    "#     else:\n",
    "#         code\n",
    "# else:\n",
    "#     code\n",
    "\n",
    "# if-elif-else-Anweisung.\n",
    "# Syntax:\n",
    "# if condition: # Der Doppelpunkt ist wichtig.\n",
    "#     code # Der Code muss eingerückt werden (4 Leerzeichen oder 1 Tab [nicht verwenden!]).\n",
    "# elif condition:\n",
    "#     code\n",
    "# else:\n",
    "#     code\n",
    "\n",
    "# Beispiel 4:\n",
    "print(\"Wie hoch ist die Außentemperatur?\")\n",
    "x_temp = float(input(\"Gib bitte die Temperatur in Grad Celsius ein: \"))\n",
    "if x_temp < 5:\n",
    "    print(\"Es ist kalt!\")\n",
    "elif x_temp > 25:\n",
    "    print(\"Es ist sehr warm draußen!\")\n",
    "else:\n",
    "    print(\"Das Wetter ist angenehm.\")\n"
   ]
  }
 ],
 "metadata": {
  "kernelspec": {
   "display_name": "py_3-12-2",
   "language": "python",
   "name": "python3"
  },
  "language_info": {
   "codemirror_mode": {
    "name": "ipython",
    "version": 3
   },
   "file_extension": ".py",
   "mimetype": "text/x-python",
   "name": "python",
   "nbconvert_exporter": "python",
   "pygments_lexer": "ipython3",
   "version": "3.12.2"
  }
 },
 "nbformat": 4,
 "nbformat_minor": 2
}

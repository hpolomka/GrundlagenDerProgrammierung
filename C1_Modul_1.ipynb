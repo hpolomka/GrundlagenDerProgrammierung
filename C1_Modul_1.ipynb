{
 "cells": [
  {
   "cell_type": "markdown",
   "metadata": {},
   "source": [
    "<h1>Nutzt bitte diesen Online-Editor:</h1>"
   ]
  },
  {
   "cell_type": "markdown",
   "metadata": {},
   "source": [
    "<h1>https://www.w3schools.com/python/trypython.asp?filename=demo_default</h1>"
   ]
  },
  {
   "cell_type": "markdown",
   "metadata": {},
   "source": [
    "<h1>Hello world!</h1>"
   ]
  },
  {
   "cell_type": "code",
   "execution_count": null,
   "metadata": {},
   "outputs": [
    {
     "name": "stdout",
     "output_type": "stream",
     "text": [
      "Hello world!\n"
     ]
    }
   ],
   "source": [
    "print(\"Hello world!\")  # '#' kennzeichnet einen Kommentar, der nicht ausgeführt wird.\n",
    "                       # Dieses Programm gibt \"Hello world!\" auf der Konsole aus.\n",
    "                       # 'print' ist ein Keyword, das eine Zeichenkette auf der Konsole ausgibt.\n",
    "                       # '()' sind dabei notwendig: eine Funktion wird aufgerufen!\n",
    "                       # Die Zeichenkette wird in Anführungszeichen gesetzt, um sie als solche zu kennzeichnen.\n",
    "                       # Es können auch einfache Anführungszeichen verwendet werden.\n",
    "                       # Wichtig ist, dass Anführungszeichen am Anfang und am Ende der Zeichenkette gleich sind."
   ]
  },
  {
   "cell_type": "markdown",
   "metadata": {},
   "source": [
    "<h1>Hello Horst!</h1>"
   ]
  },
  {
   "cell_type": "code",
   "execution_count": 8,
   "metadata": {},
   "outputs": [
    {
     "name": "stdout",
     "output_type": "stream",
     "text": [
      "Hello Horst!\n"
     ]
    }
   ],
   "source": [
    "print(\"Hello Horst!\")"
   ]
  },
  {
   "cell_type": "markdown",
   "metadata": {},
   "source": [
    "<h1>I'm OK!</h1>"
   ]
  },
  {
   "cell_type": "code",
   "execution_count": 9,
   "metadata": {},
   "outputs": [
    {
     "ename": "SyntaxError",
     "evalue": "unterminated string literal (detected at line 1) (3742422254.py, line 1)",
     "output_type": "error",
     "traceback": [
      "\u001b[0;36m  Cell \u001b[0;32mIn[9], line 1\u001b[0;36m\u001b[0m\n\u001b[0;31m    print('I'm OK!')  # Dieser Aufruf führt zu einem SyntaxError, da die Anführungszeichen nicht korrekt gesetzt sind.\u001b[0m\n\u001b[0m                  ^\u001b[0m\n\u001b[0;31mSyntaxError\u001b[0m\u001b[0;31m:\u001b[0m unterminated string literal (detected at line 1)\n"
     ]
    }
   ],
   "source": [
    "print('I'm OK!')  # Dieser Aufruf führt zu einem SyntaxError, da die Anführungszeichen nicht korrekt gesetzt sind."
   ]
  },
  {
   "cell_type": "code",
   "execution_count": 10,
   "metadata": {},
   "outputs": [
    {
     "name": "stdout",
     "output_type": "stream",
     "text": [
      "I'm OK!\n"
     ]
    }
   ],
   "source": [
    "print(\"I'm OK!\")  # Dieser Aufruf ist korrekt, da die Anführungszeichen korrekt gesetzt sind."
   ]
  },
  {
   "cell_type": "code",
   "execution_count": 11,
   "metadata": {},
   "outputs": [
    {
     "name": "stdout",
     "output_type": "stream",
     "text": [
      "I'm OK!\n"
     ]
    }
   ],
   "source": [
    "print('I\\'m OK!')  # Dieser Aufruf ist ebenfalls korrekt, da das einfache Anführungszeichen mit einem Backslash maskiert wurde.\n",
    "                   # Der Backslash wird als Escape-Zeichen verwendet, um das einfache Anführungszeichen als Zeichen zu interpretieren."
   ]
  },
  {
   "cell_type": "markdown",
   "metadata": {},
   "source": [
    "<h1>\"New line\" und \"Tab\".</h1>"
   ]
  },
  {
   "cell_type": "code",
   "execution_count": 12,
   "metadata": {},
   "outputs": [
    {
     "name": "stdout",
     "output_type": "stream",
     "text": [
      "This is a new \n",
      " line.\n"
     ]
    }
   ],
   "source": [
    "print(\"This is a new \\n line.\")  # Der Backslash wird auch verwendet, um Sonderzeichen zu interpretieren."
   ]
  },
  {
   "cell_type": "code",
   "execution_count": 2,
   "metadata": {},
   "outputs": [
    {
     "name": "stdout",
     "output_type": "stream",
     "text": [
      "This is a tab \t line.\n"
     ]
    }
   ],
   "source": [
    "print(\"This is a tab \\t line.\")  # '\\t' steht für einen Tabulator."
   ]
  },
  {
   "cell_type": "code",
   "execution_count": 15,
   "metadata": {},
   "outputs": [
    {
     "name": "stdout",
     "output_type": "stream",
     "text": [
      "Hello wonderful world!\n"
     ]
    }
   ],
   "source": [
    "print(\"Hello\", \"wonderful\", \"world!\") # Mehrere Argumente können an die Funktion 'print' übergeben werden.\n",
    "                                      # Sie werden durch ein Komma getrennt.\n",
    "                                      # Sie werden automatisch durch ein Leerzeichen getrennt."
   ]
  },
  {
   "cell_type": "markdown",
   "metadata": {},
   "source": [
    "<h1>Kommentare und Dokumentationen über mehrere Zeilen.</h1>"
   ]
  },
  {
   "cell_type": "code",
   "execution_count": 22,
   "metadata": {},
   "outputs": [
    {
     "name": "stdout",
     "output_type": "stream",
     "text": [
      "Hello world!\n"
     ]
    },
    {
     "data": {
      "text/plain": [
       "'\\nprint(\"Hello Horst!\")\\nprint(\"I\\'m OK!\")\\n'"
      ]
     },
     "execution_count": 22,
     "metadata": {},
     "output_type": "execute_result"
    }
   ],
   "source": [
    "print(\"Hello world!\")\n",
    "'''\n",
    "print(\"Hello Horst!\")\n",
    "print(\"I'm OK!\")\n",
    "'''\n",
    "\n",
    "# Hier scheint ein Fehler vorzulegen, da der Kommentar trotz der dreifachen Anführungszeichen ausgeführt wird.\n"
   ]
  },
  {
   "cell_type": "markdown",
   "metadata": {},
   "source": [
    "<h1>\"input\"</h1>"
   ]
  },
  {
   "cell_type": "code",
   "execution_count": 1,
   "metadata": {},
   "outputs": [
    {
     "name": "stdout",
     "output_type": "stream",
     "text": [
      "Horst\n"
     ]
    }
   ],
   "source": [
    "print(input(\"What's your name?\"))  # 'input' ist eine Funktion (Hinweis: '()'), die eine Eingabeaufforderung auf der Konsole ausgibt.\n",
    "                                   # Der eingegebene Wert wird zurückgegeben und kann in einer Variable gespeichert werden.\n",
    "                                   # 'input' ist ein Keyword.\n",
    "                                   # 'input' erwartet einen String als Argument, der die Eingabeaufforderung darstellt."
   ]
  },
  {
   "cell_type": "markdown",
   "metadata": {},
   "source": [
    "<h1>\"input\" und \"print\"."
   ]
  },
  {
   "cell_type": "code",
   "execution_count": 6,
   "metadata": {},
   "outputs": [
    {
     "name": "stdout",
     "output_type": "stream",
     "text": [
      "Hello Horst\n"
     ]
    }
   ],
   "source": [
    "print(\"Hello\", input(\"What's your name?\"))  # Der eingegebene Wert wird direkt an die Funktion 'print' übergeben."
   ]
  }
 ],
 "metadata": {
  "kernelspec": {
   "display_name": "data_science",
   "language": "python",
   "name": "python3"
  },
  "language_info": {
   "codemirror_mode": {
    "name": "ipython",
    "version": 3
   },
   "file_extension": ".py",
   "mimetype": "text/x-python",
   "name": "python",
   "nbconvert_exporter": "python",
   "pygments_lexer": "ipython3",
   "version": "3.13.3"
  }
 },
 "nbformat": 4,
 "nbformat_minor": 2
}

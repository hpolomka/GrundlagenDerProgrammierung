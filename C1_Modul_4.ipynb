{
 "cells": [
  {
   "cell_type": "markdown",
   "metadata": {},
   "source": [
    "<h1>Repetition.</h1>"
   ]
  },
  {
   "cell_type": "code",
   "execution_count": 1,
   "metadata": {},
   "outputs": [],
   "source": [
    "# Programmabschnitte müsssem oftmals wiederholt werden. Hierfür gibt es Schleifen.\n",
    "# Es ist nicht sinnvoll, die gleichen Befehle mehrfach zu schreiben:\n",
    "# Das Programm wird unübersichtlich und fehleranfällig.\n",
    "# Das Programm lässt sich nur schwer warten und erweitern.\n",
    "# Schleifen sind ein wichtiges Konzept in der Programmierung.\n",
    "# Es gibt verschiedene Arten von Schleifen: die while-Schleife und die for-Schleife.\n",
    "# Die while-Schleife wird so lange ausgeführt, wie eine Bedingung erfüllt ist.\n",
    "# Ist die Bedingung nicht mehr erfüllt, wird die Schleife beendet.\n",
    "# Die for-Schleife wird für jedes Element für eine bestimmte Zahl von Wiederholungen ausgeführt.\n",
    "# In Python gibt es keine do-while-Schleife.\n",
    "\n",
    "# Die while-Schleife wird mit dem Schlüsselwort while eingeleitet.\n",
    "# Syntax der while-Schleife:\n",
    "# while Bedingung:\n",
    "#     Anweisungen\n",
    "# In der while-Schleife muss immer der Wert der Abbbruchbedingung geändert werden.\n",
    "# Andernfalls wird die Schleife unendlich oft ausgeführt.\n"
   ]
  },
  {
   "cell_type": "markdown",
   "metadata": {},
   "source": [
    "<h1>\"while\"-Schleifen.</h1>"
   ]
  },
  {
   "cell_type": "code",
   "execution_count": 3,
   "metadata": {},
   "outputs": [
    {
     "name": "stdout",
     "output_type": "stream",
     "text": [
      "Diese 'while-Schleife' gibt die ersten zehn natürlichen Zahlen aus!\n",
      "1\n",
      "2\n",
      "3\n",
      "4\n",
      "5\n",
      "6\n",
      "7\n",
      "8\n",
      "9\n",
      "10\n"
     ]
    }
   ],
   "source": [
    "# Beispiel 1\n",
    "\n",
    "print(\"Diese 'while-Schleife' gibt die ersten zehn natürlichen Zahlen aus!\")\n",
    "\n",
    "x_zahl = 1\n",
    "while x_zahl <= 10:\n",
    "    print(x_zahl)\n",
    "    x_zahl = x_zahl + 1  # Kurzschreibweise: x_zahl += 1\n",
    "                         # Das Gleichheitszeichen ist hier ein Zuweisungoperator (siehe Modul 2)!"
   ]
  },
  {
   "cell_type": "code",
   "execution_count": 4,
   "metadata": {},
   "outputs": [
    {
     "name": "stdout",
     "output_type": "stream",
     "text": [
      "Falsches Passwort!\n",
      "Richtiges Passwort!\n"
     ]
    }
   ],
   "source": [
    "# Beispiel 2\n",
    "# Passwortabfrage mit einer while-Schleife.\n",
    "\n",
    "x_secret = \"horst\"\n",
    "x_input = input(\"Gib bitte dein Passwort ein: \")\n",
    "\n",
    "while x_input != x_secret:\n",
    "    print(\"Falsches Passwort!\")\n",
    "    x_input = input(\"Gib bitte dein Passwort ein: \")\n",
    "\n",
    "print(\"Richtiges Passwort!\")\n",
    "\n"
   ]
  },
  {
   "cell_type": "code",
   "execution_count": 5,
   "metadata": {},
   "outputs": [
    {
     "name": "stdout",
     "output_type": "stream",
     "text": [
      "Hallo\n",
      "Welt\n",
      "!\n",
      "Ende\n"
     ]
    }
   ],
   "source": [
    "# Beispiel 3\n",
    "# Ein Programm mit einem bestimmten Wort als Abbruchbedingung beenden.\n",
    "\n",
    "# Ein 'flag' ist eine Variable, die als Signal dient, um zu wissen, wann ein bestimmter Zustand erreicht ist.\n",
    "# Der Wert der Variable 'flag' wird in der while-Schleife geändert.\n",
    "\n",
    "x_flag = True\n",
    "\n",
    "while x_flag:\n",
    "    x_input = input(\"Gib ein Wort ein: \")\n",
    "    if x_input == \"Ende\":\n",
    "        x_flag = False\n",
    "    print(x_input)\n",
    "\n",
    "\n"
   ]
  },
  {
   "cell_type": "markdown",
   "metadata": {},
   "source": [
    "<h1>\"for\"-Schleifen.</h1>"
   ]
  },
  {
   "cell_type": "code",
   "execution_count": null,
   "metadata": {},
   "outputs": [],
   "source": [
    "# Syntax der for-Schleife:\n",
    "# for Element in Sequenz:\n",
    "#     Anweisungen\n",
    "# Die for-Schleife wird mit dem Schlüsselwort for eingeleitet.\n",
    "# Das Schlüsselwort in trennt das Element von der Sequenz.\n",
    "# Das Schlüsselwort in ist ein Zuweisungsoperator.\n",
    "# Das Element ist eine Variable, die den Wert eines Elements in der Sequenz annimmt.\n",
    "# Die Anweisungen müssen eingerückt werden.\n",
    "# Die for-Schleife wird so lange ausgeführt, wie es Elemente in der Sequenz gibt.\n",
    "# Die for-Schleife wird für jedes Element in einer Sequenz genau einmal ausgeführt.\n",
    "# Eine Sequenz ist eine geordnete Liste von Elementen.\n",
    "# In Python sind Listen, Tupel und Strings Sequenzen.\n",
    "\n",
    "# \"range\" ist eine Funktion, die eine Sequenz von Zahlen erzeugt.\n",
    "# Syntax der Funktion range:\n",
    "# range(Start, Stop, Schritt)\n",
    "# Start ist die Startzahl der Sequenz.\n",
    "# Stop ist die Endzahl der Sequenz.\n",
    "# Schritt ist die Schrittweite der Sequenz.\n",
    "# Der Startwert ist standardmäßig 0.\n",
    "# Der Schritt ist standardmäßig 1.\n",
    "# Der Stopwert ist exklusiv.\n",
    "# Die Funktion range(10) erzeugt eine Sequenz von 0 bis 9.\n"
   ]
  },
  {
   "cell_type": "code",
   "execution_count": 1,
   "metadata": {},
   "outputs": [
    {
     "name": "stdout",
     "output_type": "stream",
     "text": [
      "1\n",
      "2\n",
      "3\n",
      "4\n",
      "5\n",
      "6\n",
      "7\n",
      "8\n",
      "9\n",
      "10\n"
     ]
    }
   ],
   "source": [
    "# Beispiel 4\n",
    "# Die for-Schleife gibt die ersten zehn natürlichen Zahlen aus.\n",
    "for i in range(1, 11):\n",
    "    print(i)"
   ]
  },
  {
   "cell_type": "code",
   "execution_count": 2,
   "metadata": {},
   "outputs": [
    {
     "name": "stdout",
     "output_type": "stream",
     "text": [
      "H\n",
      "a\n",
      "l\n",
      "l\n",
      "o\n",
      " \n",
      "W\n",
      "e\n",
      "l\n",
      "t\n",
      "!\n"
     ]
    }
   ],
   "source": [
    "# Beispiel 5\n",
    "# Gib die Buchstaben eines Wortes aus.\n",
    "x_word = \"Hallo Welt!\"\n",
    "for character in x_word:\n",
    "    print(character)"
   ]
  },
  {
   "cell_type": "code",
   "execution_count": 3,
   "metadata": {},
   "outputs": [
    {
     "name": "stdout",
     "output_type": "stream",
     "text": [
      "55\n"
     ]
    }
   ],
   "source": [
    "# Beispiel 6\n",
    "# Addiere die Zahlen von 1 bis 10.\n",
    "x_sum = 0\n",
    "for i in range(1, 11):\n",
    "    x_sum += i\n",
    "print(x_sum)"
   ]
  },
  {
   "cell_type": "markdown",
   "metadata": {},
   "source": [
    "<h1>\"continue\" und \"break\".</h1>"
   ]
  },
  {
   "cell_type": "code",
   "execution_count": null,
   "metadata": {},
   "outputs": [],
   "source": [
    "# Es gibt zwei wichtige Anweisungen, die den Ablauf einer Schleife beeinflussen:\n",
    "# \"break\" beendet die Schleife sofort.\n",
    "# \"continue\" beendet die aktuelle Iteration und springt zur nächsten Iteration.\n",
    "# \"break\" und \"continue\" können nur in Schleifen verwendet werden.\n",
    "# \"break\" und \"continue\" sind sogenannte Sprunganweisungen.\n"
   ]
  },
  {
   "cell_type": "code",
   "execution_count": 5,
   "metadata": {},
   "outputs": [
    {
     "name": "stdout",
     "output_type": "stream",
     "text": [
      "hallo\n",
      "test\n"
     ]
    }
   ],
   "source": [
    "# Beispiel 7\n",
    "while True:\n",
    "    input_text = input(\"Gib ein Wort ein: \")\n",
    "    if input_text == \"Ende\":\n",
    "        break\n",
    "    print(input_text)"
   ]
  },
  {
   "cell_type": "code",
   "execution_count": 10,
   "metadata": {},
   "outputs": [
    {
     "name": "stdout",
     "output_type": "stream",
     "text": [
      "Zahl: 0, Quadrat: 0\n",
      "Zahl: 1, Quadrat: 1\n",
      "Zahl: 2, Quadrat: 4\n",
      "Zahl: 3, Quadrat: 9\n",
      "Zahl: 4, Quadrat: 16\n",
      "Zahl: 5, Quadrat: 25\n",
      "Zahl: 6, Quadrat: 36\n",
      "Zahl: 7, Quadrat: 49\n",
      "Zahl: 8, Quadrat: 64\n",
      "Zahl: 9, Quadrat: 81\n"
     ]
    }
   ],
   "source": [
    "# Beispiel 8\n",
    "# Gib alle Zahlen aus, deren Quadrat kleiner als 100 ist.\n",
    "# Die Schleife wird mit \"break\" beendet, wenn das Quadrat einer Zahl größer oder gleich 100 ist.\n",
    "x_zahl = 0\n",
    "x_quadrat = 0\n",
    "while True:\n",
    "    x_quadrat = x_zahl ** 2\n",
    "    if x_quadrat >= 100:\n",
    "        break\n",
    "    print(f\"Zahl: {x_zahl}, Quadrat: {x_quadrat}\")  # f-String (siehe Modul 2)\n",
    "    x_zahl += 1"
   ]
  },
  {
   "cell_type": "code",
   "execution_count": 11,
   "metadata": {},
   "outputs": [
    {
     "name": "stdout",
     "output_type": "stream",
     "text": [
      "1\n",
      "2\n",
      "3\n",
      "4\n",
      "6\n",
      "7\n",
      "8\n",
      "9\n",
      "10\n"
     ]
    }
   ],
   "source": [
    "# Beispiel 9\n",
    "# Gib alle Zahlen von 1 bis 10 aus, außer die 5.\n",
    "# Die Schleife wird mit \"continue\" fortgesetzt, wenn die Zahl \"5\" ist.\n",
    "for i in range(1, 11):\n",
    "    if i == 5:\n",
    "        continue\n",
    "    print(i)\n"
   ]
  },
  {
   "cell_type": "code",
   "execution_count": 12,
   "metadata": {},
   "outputs": [
    {
     "name": "stdout",
     "output_type": "stream",
     "text": [
      "H\n",
      "a\n",
      "l\n",
      "l\n",
      "o\n",
      "W\n",
      "e\n",
      "l\n",
      "t\n",
      "!\n"
     ]
    }
   ],
   "source": [
    "# Beispiel 10\n",
    "# Gib alle Buchstaben eines Satzes aus, außer die Leerzeichen.\n",
    "# Die Schleife wird mit \"continue\" fortgesetzt, wenn das Zeichen ein Leerzeichen ist.\n",
    "x_satz = \"Hallo Welt!\"\n",
    "for buchstabe in x_satz:\n",
    "    if buchstabe == \" \":\n",
    "        continue\n",
    "    print(buchstabe)\n",
    "\n"
   ]
  },
  {
   "cell_type": "code",
   "execution_count": 15,
   "metadata": {},
   "outputs": [
    {
     "name": "stdout",
     "output_type": "stream",
     "text": [
      "else\n"
     ]
    }
   ],
   "source": [
    "for i in range(2, 2):\n",
    "    print(i)\n",
    "else:\n",
    "    print(\"else\")    "
   ]
  }
 ],
 "metadata": {
  "kernelspec": {
   "display_name": "py_3-12-2",
   "language": "python",
   "name": "python3"
  },
  "language_info": {
   "codemirror_mode": {
    "name": "ipython",
    "version": 3
   },
   "file_extension": ".py",
   "mimetype": "text/x-python",
   "name": "python",
   "nbconvert_exporter": "python",
   "pygments_lexer": "ipython3",
   "version": "3.12.2"
  }
 },
 "nbformat": 4,
 "nbformat_minor": 2
}

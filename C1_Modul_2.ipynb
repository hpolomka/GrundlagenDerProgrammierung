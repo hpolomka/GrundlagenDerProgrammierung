{
 "cells": [
  {
   "cell_type": "markdown",
   "metadata": {},
   "source": [
    "<h1>Variables (Variablen)</h1>"
   ]
  },
  {
   "cell_type": "code",
   "execution_count": null,
   "metadata": {},
   "outputs": [],
   "source": [
    "# Allgemein:\n",
    "# Variablen haben einen Namen und einen Wert.\n",
    "# Der Wert kann sich ändern, der Name bleibt gleich.\n",
    "# Variablen sind wie Schubladen, in denen Werte abgelegt werden.\n",
    "# Erlaubte Zeichen für Variablennamen sind Buchstaben, Zahlen und Unterstriche.\n",
    "# Der Name darf nicht mit einer Zahl beginnen.\n",
    "# Der Name darf keine Leerzeichen und keine Sonderzeichen enthalten.\n",
    "# Variablennamen sind case-sensitive.\n",
    "# Variablen dürfen nicht die Namen von Python-Schlüsselwörtern haben.\n",
    "# Variablen können mit einem Wert initialisiert werden.\n",
    "\n",
    "# Namens-Konventionen:\n",
    "# Variablennamen sollten aussagekräftig sein.\n",
    "# Variablennamen sollten klein geschrieben werden.\n",
    "# Mehrere Worte in einem Variablennamen werden durch Unterstriche getrennt oder mit \"CamelCase\" geschrieben werden.\n",
    "\n",
    "# Variablentypen können dynamisch geändert werden.\n",
    "\n",
    "\n",
    "\n"
   ]
  },
  {
   "cell_type": "markdown",
   "metadata": {},
   "source": [
    "<h1>Assignment Operation (Zuweisungsoperatoren)</h1>"
   ]
  },
  {
   "cell_type": "code",
   "execution_count": 2,
   "metadata": {},
   "outputs": [
    {
     "name": "stdout",
     "output_type": "stream",
     "text": [
      "Hello world!\n"
     ]
    }
   ],
   "source": [
    "# Das Gleichheitszeichen (=) wird in Python verwendet, um einer Variablen einen Wert zuzuweisen.\n",
    "# Der Wert wird auf der RECHTEN Seite des Gleichheitszeichens geschrieben.\n",
    "# Der Variablenname wird auf der LINKEN Seite des Gleichheitszeichens geschrieben.\n",
    "# Der Wert wird in die Variable \"gespeichert\".\n",
    "# Der Wert kann ein beliebiger Datentyp sein.\n",
    "# Der Wert kann auch eine andere Variable sein.\n",
    "# Der Wert kann auch eine Berechnung sein.\n",
    "# Variablen können auch mehrfach überschrieben werden.\n",
    "# Variablen können auch gelöscht werden.\n",
    "\n",
    "# Beispiel:\n",
    "message = \"Hello world!\"\n",
    "print(message)"
   ]
  },
  {
   "cell_type": "markdown",
   "metadata": {},
   "source": [
    "<h1> Types of Variables</h1>"
   ]
  },
  {
   "cell_type": "code",
   "execution_count": 3,
   "metadata": {},
   "outputs": [
    {
     "name": "stdout",
     "output_type": "stream",
     "text": [
      "Hello world!\n"
     ]
    },
    {
     "data": {
      "text/plain": [
       "str"
      ]
     },
     "execution_count": 3,
     "metadata": {},
     "output_type": "execute_result"
    }
   ],
   "source": [
    "message = \"Hello world!\"\n",
    "print(message)\n",
    "type(message) # \"type\" gibt den Datentyp einer Variablen zurück.\n",
    "              # In diesem Fall ist der Datentyp \"str\" (String).\n",
    "              # \"str\" steht für \"String\" (Zeichenkette).\n",
    "              # Ein String ist eine Zeichenkette, die aus Buchstaben, Zahlen und Sonderzeichen bestehen kann.\n",
    "              # Ein String wird immer in Anführungszeichen geschrieben."
   ]
  },
  {
   "cell_type": "code",
   "execution_count": 5,
   "metadata": {},
   "outputs": [
    {
     "name": "stdout",
     "output_type": "stream",
     "text": [
      "42\n"
     ]
    },
    {
     "data": {
      "text/plain": [
       "int"
      ]
     },
     "execution_count": 5,
     "metadata": {},
     "output_type": "execute_result"
    }
   ],
   "source": [
    "firstNumber = 42\n",
    "print(firstNumber)\n",
    "type(firstNumber) # Der Datentyp ist \"int\" (Integer).\n",
    "                  # \"int\" steht für \"Integer\" (Ganzzahl).\n",
    "                  # Ein Integer ist eine ganze Zahl ohne Nachkommastellen."
   ]
  },
  {
   "cell_type": "code",
   "execution_count": 9,
   "metadata": {},
   "outputs": [
    {
     "name": "stdout",
     "output_type": "stream",
     "text": [
      "3.14\n"
     ]
    },
    {
     "data": {
      "text/plain": [
       "float"
      ]
     },
     "execution_count": 9,
     "metadata": {},
     "output_type": "execute_result"
    }
   ],
   "source": [
    "secondNumber = 3.14\n",
    "print(secondNumber)\n",
    "type(secondNumber) # Der Datentyp ist \"float\" (Float).\n",
    "                   # \"float\" steht für \"Floating Point Number\" (Gleitkommazahl).\n",
    "                   # Ein Float ist eine Zahl mit Nachkommastellen.\n"
   ]
  },
  {
   "cell_type": "code",
   "execution_count": 8,
   "metadata": {},
   "outputs": [
    {
     "name": "stdout",
     "output_type": "stream",
     "text": [
      "3\n"
     ]
    },
    {
     "data": {
      "text/plain": [
       "int"
      ]
     },
     "execution_count": 8,
     "metadata": {},
     "output_type": "execute_result"
    }
   ],
   "source": [
    "thirdNumber = int(secondNumber) # Die Gleitkommazahl wird in eine Ganzzahl umgewandelt.\n",
    "                                # Die Nachkommastellen werden abgeschnitten!\n",
    "print(thirdNumber)\n",
    "type(thirdNumber) # Der Datentyp ist \"int\" (Integer)."
   ]
  },
  {
   "cell_type": "code",
   "execution_count": 13,
   "metadata": {},
   "outputs": [
    {
     "name": "stdout",
     "output_type": "stream",
     "text": [
      "42.14\n",
      "52.14\n",
      "42.1410\n"
     ]
    },
    {
     "data": {
      "text/plain": [
       "str"
      ]
     },
     "execution_count": 13,
     "metadata": {},
     "output_type": "execute_result"
    }
   ],
   "source": [
    "fourthNumber = 42.14\n",
    "print(fourthNumber)\n",
    "print(fourthNumber + 10) # Es wird eine Berechnung durchgeführt.\n",
    "fivthValue = str(fourthNumber) # Die Zahl wird in einen String umgewandelt.\n",
    "# print(fivthValue + 10) # Es wird eine Fehlermeldung ausgegeben, da ein String nicht mit einer Zahl addiert werden kann\n",
    "print(fivthValue + \"10\") # Der String wird mit einer Zahl konkateniert (verbunden).\n",
    "type(fivthValue) # Der Datentyp ist \"str\" (String)."
   ]
  },
  {
   "cell_type": "markdown",
   "metadata": {},
   "source": [
    "<h1>Arithmetic Operations</h1>"
   ]
  },
  {
   "cell_type": "code",
   "execution_count": 19,
   "metadata": {},
   "outputs": [
    {
     "name": "stdout",
     "output_type": "stream",
     "text": [
      "2\n",
      "42\n",
      "42\n",
      "42.0\n",
      "8\n",
      "1\n",
      "3\n"
     ]
    }
   ],
   "source": [
    "# Addition von Zahlen: +\n",
    "print(1 + 1) # 2\n",
    "\n",
    "# Subtraktion von Zahlen: -\n",
    "print(43 - 1) # 42\n",
    "\n",
    "# Multiplikation von Zahlen: *\n",
    "print(6 * 7) # 42\n",
    "\n",
    "# Division von Zahlen: / (Gibt immer eine Gleitkommazahl zurück!)\n",
    "print(84 / 2) # 42.0\n",
    "\n",
    "# Potenzierung von Zahlen: **\n",
    "print(2 ** 3) # 8\n",
    "\n",
    "# Modulo von Zahlen: % (Gibt den Rest einer Division zurück)\n",
    "print(10 % 3) # 1\n",
    "\n",
    "# Ganzzahlige Division von Zahlen: // (Gibt das Ergebnis einer Division ohne Nachkommastellen zurück)\n",
    "print(10 // 3) # 3\n",
    "\n",
    "# Inkrementierung von Zahlen: +=\n",
    "# Dekrementierung von Zahlen: -=\n",
    "# Multiplikation von Zahlen: *=\n",
    "# Division von Zahlen: /=\n",
    "# Modulo von Zahlen: %=\n",
    "# Ganzzahlige Division von Zahlen: //=\n",
    "# Potenzierung von Zahlen: **=\n",
    "\n",
    "# Reihenfolge der Operationen: Punkt-vor-Strich-Rechnung    \n",
    "# Klammern haben die höchste Priorität.\n",
    "# Potenzen haben die zweithöchste Priorität.\n",
    "# Multiplikation und Division haben die dritthöchste Priorität.\n",
    "# Addition und Subtraktion haben die niedrigste Priorität.\n",
    "# Bei gleicher Priorität wird von links nach rechts gerechnet.\n"
   ]
  },
  {
   "cell_type": "markdown",
   "metadata": {},
   "source": [
    "<h1>Weitere Anmerkungen zu \"input\".</h1>"
   ]
  },
  {
   "cell_type": "code",
   "execution_count": 21,
   "metadata": {},
   "outputs": [
    {
     "data": {
      "text/plain": [
       "str"
      ]
     },
     "execution_count": 21,
     "metadata": {},
     "output_type": "execute_result"
    }
   ],
   "source": [
    "type(input(\"Geben Sie etwas ein: \")) # \"Hallo!\""
   ]
  },
  {
   "cell_type": "code",
   "execution_count": 25,
   "metadata": {},
   "outputs": [
    {
     "ename": "TypeError",
     "evalue": "can only concatenate str (not \"int\") to str",
     "output_type": "error",
     "traceback": [
      "\u001b[0;31m---------------------------------------------------------------------------\u001b[0m",
      "\u001b[0;31mTypeError\u001b[0m                                 Traceback (most recent call last)",
      "Cell \u001b[0;32mIn[25], line 5\u001b[0m\n\u001b[1;32m      2\u001b[0m                                          \u001b[38;5;66;03m# Der Datentyp bei \"input\" ist immer(!) \"str\" (String)!\u001b[39;00m\n\u001b[1;32m      4\u001b[0m x \u001b[38;5;241m=\u001b[39m \u001b[38;5;28minput\u001b[39m(\u001b[38;5;124m\"\u001b[39m\u001b[38;5;124mGeben Sie eine Zahl ein: \u001b[39m\u001b[38;5;124m\"\u001b[39m)\n\u001b[0;32m----> 5\u001b[0m y \u001b[38;5;241m=\u001b[39m \u001b[43mx\u001b[49m\u001b[43m \u001b[49m\u001b[38;5;241;43m+\u001b[39;49m\u001b[43m \u001b[49m\u001b[38;5;241;43m10\u001b[39;49m \u001b[38;5;66;03m# Es wird eine Fehlermeldung ausgegeben, da ein String nicht mit einer Zahl addiert werden kann\u001b[39;00m\n\u001b[1;32m      6\u001b[0m \u001b[38;5;28mprint\u001b[39m(y)\n",
      "\u001b[0;31mTypeError\u001b[0m: can only concatenate str (not \"int\") to str"
     ]
    }
   ],
   "source": [
    "type(input(\"Geben Sie eine Zahl ein: \")) # 42\n",
    "                                         # Der Datentyp bei \"input\" ist immer(!) \"str\" (String)!\n",
    "\n",
    "x = input(\"Geben Sie eine Zahl ein: \")\n",
    "y = x + 10 # Es wird eine Fehlermeldung ausgegeben, da ein String nicht mit einer Zahl addiert werden kann\n",
    "print(y)"
   ]
  },
  {
   "cell_type": "code",
   "execution_count": 26,
   "metadata": {},
   "outputs": [
    {
     "name": "stdout",
     "output_type": "stream",
     "text": [
      "52\n"
     ]
    }
   ],
   "source": [
    "# Der Datentyp kann mit einer Typumwandlung geändert werden.\n",
    "x = int(input(\"Geben Sie eine Zahl ein: \")) # 42\n",
    "y = x + 10 # Es wird keine Fehlermeldung ausgegeben, da die Eingabe in eine Ganzzahl umgewandelt wurde.\n",
    "print(y)\n"
   ]
  },
  {
   "cell_type": "code",
   "execution_count": 36,
   "metadata": {},
   "outputs": [
    {
     "name": "stdout",
     "output_type": "stream",
     "text": [
      "4 g 65\n",
      "<class 'str'> <class 'str'> <class 'str'>\n",
      "g\n"
     ]
    }
   ],
   "source": [
    "# Mit \"input\" können auch mehrere Werte eingegeben werden.\n",
    "# Die Werte werden durch ein Leerzeichen getrennt.\n",
    "# Die Werte werden in einer Zeichenkette gespeichert.\n",
    "# Die Werte können mit der Methode \"split\" in eine Liste umgewandelt werden.\n",
    "# Die Werte können dann in Variablen gespeichert werden.\n",
    "x, y, z = input(\"Geben Sie drei Zahlen ein: \").split()\n",
    "print(x, y, z)\n",
    "print(type(x), type(y), type(z))\n",
    "print(y)\n"
   ]
  },
  {
   "cell_type": "markdown",
   "metadata": {},
   "source": [
    "<h1>Relational Operations.</h1>"
   ]
  },
  {
   "cell_type": "code",
   "execution_count": 40,
   "metadata": {},
   "outputs": [
    {
     "name": "stdout",
     "output_type": "stream",
     "text": [
      "Die Zahlen sind gleich.\n",
      "Die Zahlen sind ungleich.\n",
      "Die Zahl ist größer.\n",
      "Die Zahl ist kleiner.\n",
      "Die Zahl ist größer oder gleich.\n",
      "Die Zahl ist kleiner oder gleich.\n"
     ]
    }
   ],
   "source": [
    "# Oftmals müssen Variablen miteinander verglichen werden.\n",
    "# Diese Vergleiche können mit Vergleichsoperatoren durchgeführt werden.\n",
    "# Vergleichsoperatoren geben immer einen Wahrheitswert zurück.\n",
    "# Der Wahrheitswert kann \"True\" oder \"False\" sein.\n",
    "# \"True\" bedeutet, dass die Aussage wahr ist.\n",
    "# \"False\" bedeutet, dass die Aussage falsch ist.\n",
    "# Dies wird auch als \"Boolean\" bezeichnet.\n",
    "# Der Datentyp ist \"bool\" (Boolean).\n",
    "# Der Wahrheitswert kann auch in einer Variablen gespeichert werden.\n",
    "# Der Wahrheitswert kann auch in einer Bedingung verwendet werden.\n",
    "# Bedingungen werden mit einem Doppelpunkt geschrieben.\n",
    "# Bedingungen können auch in Klammern geschrieben werden.\n",
    "# Es gibt nur zwei Wahrheitswerte: \"True\" und \"False\".\n",
    "\n",
    "# Es gibt verschiedene Vergleichsoperatoren:\n",
    "# Gleichheit: ==\n",
    "if 42 == 42:\n",
    "    print(\"Die Zahlen sind gleich.\") # \"Die Zahlen sind gleich.\"\n",
    "\n",
    "# Ungleichheit: !=\n",
    "if 42 != 43:\n",
    "    print(\"Die Zahlen sind ungleich.\")\n",
    "\n",
    "# Größer als: >\n",
    "if 42 > 41:\n",
    "    print(\"Die Zahl ist größer.\")\n",
    "\n",
    "# Kleiner als: <\n",
    "if 42 < 43:\n",
    "    print(\"Die Zahl ist kleiner.\")\n",
    "\n",
    "# Größer oder gleich: >=\n",
    "if 42 >= 42:\n",
    "    print(\"Die Zahl ist größer oder gleich.\")\n",
    "\n",
    "# Kleiner oder gleich: <=\n",
    "if 42 <= 42:\n",
    "    print(\"Die Zahl ist kleiner oder gleich.\")\n",
    "\n",
    "\n",
    "\n"
   ]
  },
  {
   "cell_type": "markdown",
   "metadata": {},
   "source": [
    "<h1>Logical Operations.</h1>"
   ]
  },
  {
   "cell_type": "code",
   "execution_count": null,
   "metadata": {},
   "outputs": [],
   "source": [
    "# Der Datentyp \"bool\" kann mit den logischen Operatoren \"and\", \"or\" und \"not\" verknüpft werden.\n",
    "# \"and\" bedeutet \"und\".\n",
    "# \"or\" bedeutet \"oder\".\n",
    "# \"not\" bedeutet \"nicht\".\n",
    "# Die logischen Operatoren können auch in einer Bedingung verwendet werden.\n",
    "# Die logischen Operatoren haben eine Priorität.\n",
    "# \"not\" hat die höchste Priorität.  \n",
    "# \"and\" hat eine höhere Priorität als \"or\".\n",
    "# Die Reihenfolge der Operationen kann mit Klammern geändert werden.\n",
    "# Die logischen Operatoren geben immer einen Wahrheitswert zurück.\n",
    "# Der Wahrheitswert kann auch in einer Variablen gespeichert werden.\n",
    "# Der Wahrheitswert kann auch in einer Bedingung verwendet werden.\n",
    "\n",
    "# Wahrheitstabellen können verwendet werden, um die Wahrheitswerte zu bestimmen.\n",
    "# Wahrheitstabellen zeigen alle möglichen Kombinationen von Wahrheitswerten für eine Bedingung.\n",
    "# Wahrheitstabellen zeigen die Wahrheitswerte für \"True\" und \"False\".\n",
    "# \"and\" gibt \"True\" zurück, wenn beide Bedingungen \"True\" sind.\n",
    "# \"or\" gibt \"True\" zurück, wenn mindestens eine Bedingung \"True\" ist.\n",
    "# \"not\" gibt \"True\" zurück, wenn die Bedingung \"False\" ist.\n",
    "\n",
    "# Short-Circuit-Evaluation: Wenn der Wahrheitswert bereits bestimmt werden kann,\n",
    "# wird der Rest der Bedingung nicht mehr ausgewertet.\n",
    "# Vorteile: Schneller, weniger Fehleranfällig, weniger Speicherplatz.‚"
   ]
  }
 ],
 "metadata": {
  "kernelspec": {
   "display_name": "py_3-12-2",
   "language": "python",
   "name": "python3"
  },
  "language_info": {
   "codemirror_mode": {
    "name": "ipython",
    "version": 3
   },
   "file_extension": ".py",
   "mimetype": "text/x-python",
   "name": "python",
   "nbconvert_exporter": "python",
   "pygments_lexer": "ipython3",
   "version": "3.12.2"
  }
 },
 "nbformat": 4,
 "nbformat_minor": 2
}
